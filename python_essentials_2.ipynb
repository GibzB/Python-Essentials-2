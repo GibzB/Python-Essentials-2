{
 "cells": [
  {
   "cell_type": "markdown",
   "metadata": {},
   "source": [
    "# Python Essentials 2"
   ]
  },
  {
   "cell_type": "markdown",
   "metadata": {},
   "source": [
    "### Counting to from zero to ten"
   ]
  },
  {
   "cell_type": "code",
   "execution_count": 2,
   "metadata": {},
   "outputs": [
    {
     "name": "stdout",
     "output_type": "stream",
     "text": [
      "1\n",
      "2\n",
      "3\n",
      "4\n",
      "5\n",
      "6\n",
      "7\n",
      "8\n",
      "9\n",
      "10\n",
      "11\n"
     ]
    }
   ],
   "source": [
    "def count_to_ten():\n",
    "    # Loop through the numbers from first to last \n",
    "    x = 0\n",
    "    while x <= 10:\n",
    "        x += 1\n",
    "        print(x)\n",
    "count_to_ten()"
   ]
  },
  {
   "cell_type": "markdown",
   "metadata": {},
   "source": [
    "## Strings\n"
   ]
  },
  {
   "cell_type": "code",
   "execution_count": 1,
   "metadata": {},
   "outputs": [
    {
     "name": "stdout",
     "output_type": "stream",
     "text": [
      "2\n",
      "0\n",
      "3\n"
     ]
    }
   ],
   "source": [
    "# Example 1\n",
    "\n",
    "word = 'by'\n",
    "print(len(word))\n",
    "\n",
    "\n",
    "# Example 2\n",
    "\n",
    "empty = ''\n",
    "print(len(empty))\n",
    "\n",
    "\n",
    "# Example 3\n",
    "\n",
    "i_am = 'I\\'m' # a backslash (\\) used as an escape character is not included in the string's total length\n",
    "print(len(i_am)) \n"
   ]
  },
  {
   "cell_type": "markdown",
   "metadata": {},
   "source": [
    "## String Operations"
   ]
  },
  {
   "cell_type": "code",
   "execution_count": 7,
   "metadata": {},
   "outputs": [
    {
     "name": "stdout",
     "output_type": "stream",
     "text": [
      "I KNOW THAT I KNOW NOTHING. PART 1.\n",
      "I KNOW THAT I'M NOW NOTHING. PART 2.\n",
      "sigma=60\n",
      "here is a lowercase string\n",
      "here is an uppercase string\n"
     ]
    }
   ],
   "source": [
    "# s.lower(), s.upper() -- returns the lowercase or uppercase version of the string\n",
    "\n",
    "# Demonstrating the upper() method:\n",
    "print(\"I know that I know nothing. Part 1.\".upper())\n",
    "\n",
    "# The upper() method has one more interesting feature:\n",
    "# it can capitalize the letter preceding every single quote mark (') and double quote mark (\").\n",
    "\n",
    "# Demonstrating the upper() method's second feature:\n",
    "print(\"I know that I'm now nothing. Part 2.\".upper())\n",
    "\n",
    "# The lower() method doesn't take any parameters.\n",
    "# Demonstrating the lower() method:\n",
    "print(\"SiGmA=60\".lower())\n",
    "\n",
    "# If the string doesn't contain any upper-case or lower-case characters, the method returns the original string.\n",
    "print(\"here is a lowercase string\".lower())\n",
    "print(\"here is an uppercase string\".lower())"
   ]
  },
  {
   "cell_type": "code",
   "execution_count": 12,
   "metadata": {},
   "outputs": [
    {
     "name": "stdout",
     "output_type": "stream",
     "text": [
      "[aleph]\n",
      "[ upsilon]\n",
      "[ upsilon]\n",
      "cis\n",
      "[tau ]\n",
      "cisco.com\n"
     ]
    }
   ],
   "source": [
    "# s.strip() -- returns a string with whitespace removed from the start and end\n",
    "\n",
    "# The strip() method combines the effects caused by rstrip() and lstrip() \n",
    "#   – it makes a new string lacking all the leading and trailing whitespaces.\n",
    "\n",
    "# The strip() method has one more interesting feature: it can remove a substring from the beginning and the end of a string.\n",
    "\n",
    "# Its syntax is as follows: string.strip(substring)\n",
    "\n",
    "# The method will look for the substring in the string, and if it finds it,\n",
    "#   it will remove it from the string.\n",
    "\n",
    "# If it doesn't find the substring, it will do nothing.\n",
    "# Demonstrating the strip() method:\n",
    "print(\"[\" + \"   aleph   \".strip() + \"]\") # there is space character in the aleph string, before and after\n",
    "\n",
    "# rstrip() method\n",
    "\n",
    "# Two variants of the rstrip() method do nearly the same as lstrips, but affect the opposite side of the string.\n",
    "# The rstrip() method returns a string after removing all trailing whitespaces (spaces, tabs, newlines, etc) from the RIGHT end.\n",
    "# The rstrip() method takes one parameter:\n",
    "\n",
    "# Demonstrating the rstrip() method:\n",
    "rstrip_word = str(\"[\" + \" upsilon \".rstrip() + \"]\") # This is a simplified code\n",
    "print(rstrip_word.rstrip()) # outputs the same result as the below long-form code\n",
    "\n",
    "print(\"[\" + \" upsilon \".rstrip() + \"]\")\n",
    "print(\"cisco.com\".rstrip(\".com\")) # This line removes the \".com\" suffix from the string.\n",
    "                                # Any letter associated with \".com\" is removed\n",
    "\n",
    "# lstrip() method\n",
    "# The lstrip() method returns a copy of the string with the leading characters removed (based on the string argument passed).\n",
    "\n",
    "# The parameterless version of the lstrip() method returns a newly created string formed from the original one by removing all leading whitespaces.\n",
    "\n",
    "# Demonstrating the lstrip() method:\n",
    "print(\"[\" + \" tau \".lstrip() + \"]\") # there is a space before the start of tau\n",
    "\n",
    "\n",
    "# The one-parameter version of the lstrip() method removes all characters included in the argument (a string), not just whitespaces:\n",
    "\n",
    "# Demonstrating the lstrip() method:\n",
    "print(\"www.cisco.com\".lstrip(\"w.\")) # prints out characters AFTER(Leading) w. "
   ]
  },
  {
   "cell_type": "code",
   "execution_count": null,
   "metadata": {},
   "outputs": [],
   "source": [
    "# s.isalpha()/s.isdigit()/s.isspace()... -- tests if all the string chars are in the various character classes\n"
   ]
  },
  {
   "cell_type": "code",
   "execution_count": null,
   "metadata": {},
   "outputs": [],
   "source": [
    "# s.startswith('other'), s.endswith('other') -- tests if the string starts or ends with the given other string\n"
   ]
  },
  {
   "cell_type": "code",
   "execution_count": null,
   "metadata": {},
   "outputs": [],
   "source": [
    "# s.find('other')\n",
    "\n",
    "# searches for the given other string (not a regular expression) within s, and returns the first index where it begins or -1 if not found"
   ]
  },
  {
   "cell_type": "code",
   "execution_count": null,
   "metadata": {},
   "outputs": [],
   "source": [
    "# s.replace('old', 'new') -- returns a string where all occurrences of 'old' have been replaced by 'new'"
   ]
  },
  {
   "cell_type": "code",
   "execution_count": null,
   "metadata": {},
   "outputs": [],
   "source": [
    "# s.split('delim') \n",
    "\n",
    "# returns a list of substrings separated by the given delimiter. \n",
    "# The delimiter is not a regular expression, it's just text. 'aaa,bbb,ccc'.split(',') -> ['aaa', 'bbb', 'ccc']. \n",
    "# As a convenient special case s.split() (with no arguments) splits on all whitespace chars."
   ]
  },
  {
   "cell_type": "code",
   "execution_count": null,
   "metadata": {},
   "outputs": [],
   "source": [
    "# s.join(list) \n",
    "\n",
    "# opposite of split(), joins the elements in the given list together using the string as the delimiter. \n",
    "#   e.g. '---'.join(['aaa', 'bbb', 'ccc']) -> aaa---bbb---ccc"
   ]
  },
  {
   "cell_type": "markdown",
   "metadata": {},
   "source": [
    "### String Slices"
   ]
  }
 ],
 "metadata": {
  "kernelspec": {
   "display_name": "Python 3",
   "language": "python",
   "name": "python3"
  },
  "language_info": {
   "codemirror_mode": {
    "name": "ipython",
    "version": 3
   },
   "file_extension": ".py",
   "mimetype": "text/x-python",
   "name": "python",
   "nbconvert_exporter": "python",
   "pygments_lexer": "ipython3",
   "version": "3.12.2"
  }
 },
 "nbformat": 4,
 "nbformat_minor": 2
}
